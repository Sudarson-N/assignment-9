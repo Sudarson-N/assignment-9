{
 "cells": [
  {
   "cell_type": "code",
   "execution_count": null,
   "id": "efdaf073",
   "metadata": {},
   "outputs": [],
   "source": [
    "import pandas as pd\n",
    "from scipy import stats \n",
    "import matplotlib.pyplot as plt\n",
    "from scipy.stats import pearsonr\n",
    "import statsmodels.api as sm \n",
    "import seaborn as sns\n",
    "from sklearn import datasets\n",
    "from sklearn.model_selection import train_test_split\n",
    "from sklearn.linear_model import LinearRegression\n",
    "from sklearn.preprocessing import MinMaxScaler\n",
    "from sklearn import datasets,linear_model,metrics\n",
    "from sklearn.metrics import mean_squared_error,confusion_matrix,accuracy_score,classification_report\n",
    "from sklearn.linear_model import LogisticRegression\n",
    "from sklearn.tree import DecisionTreeClassifier,DecisionTreeRegressor \n",
    "from sklearn.datasets import make_classification\n",
    "from sklearn.datasets import make_hastie_10_2\n",
    "from sklearn.ensemble import GradientBoostingClassifier,AdaBoostClassifier,RandomForestClassifier\n",
    "from sklearn.datasets import make_regression\n",
    "from sklearn.ensemble import GradientBoostingRegressor,AdaBoostRegressor,RandomForestRegressor"
   ]
  },
  {
   "cell_type": "code",
   "execution_count": null,
   "id": "cfca0070",
   "metadata": {},
   "outputs": [],
   "source": [
    "data=pd.read_csv(\"C:/Users/sudarson.SUDARSON/Downloads/archive/train.csv\")"
   ]
  },
  {
   "cell_type": "code",
   "execution_count": null,
   "id": "ee4a3882",
   "metadata": {},
   "outputs": [],
   "source": [
    "data.head()"
   ]
  },
  {
   "cell_type": "code",
   "execution_count": null,
   "id": "2855bb90",
   "metadata": {},
   "outputs": [],
   "source": [
    "data.info()"
   ]
  },
  {
   "cell_type": "code",
   "execution_count": null,
   "id": "9feb77f6",
   "metadata": {},
   "outputs": [],
   "source": [
    "data.describe()"
   ]
  },
  {
   "cell_type": "code",
   "execution_count": null,
   "id": "fe1903ae",
   "metadata": {},
   "outputs": [],
   "source": [
    "data.isnull().sum()"
   ]
  },
  {
   "cell_type": "code",
   "execution_count": null,
   "id": "1d795954",
   "metadata": {},
   "outputs": [],
   "source": [
    "data.Product_Category_2.unique()"
   ]
  },
  {
   "cell_type": "code",
   "execution_count": null,
   "id": "ae8deda1",
   "metadata": {},
   "outputs": [],
   "source": [
    "data.Product_Category_3.unique()"
   ]
  },
  {
   "cell_type": "code",
   "execution_count": null,
   "id": "2b133445",
   "metadata": {},
   "outputs": [],
   "source": [
    "data.Product_Category_2.fillna(data.Product_Category_2.fillna(\"others\"),inplace=True)"
   ]
  },
  {
   "cell_type": "code",
   "execution_count": null,
   "id": "3ca718c5",
   "metadata": {},
   "outputs": [],
   "source": [
    "#data.Product_Category_3.fillna(data.Product_Category_3.mode().max(),inplace=True)"
   ]
  },
  {
   "cell_type": "code",
   "execution_count": null,
   "id": "98a70823",
   "metadata": {},
   "outputs": [],
   "source": [
    "data.isnull().mean()"
   ]
  },
  {
   "cell_type": "code",
   "execution_count": null,
   "id": "c5db99d1",
   "metadata": {},
   "outputs": [],
   "source": [
    "x=data.iloc[0:,2:10]\n",
    "y=data.Purchase"
   ]
  },
  {
   "cell_type": "code",
   "execution_count": null,
   "id": "f3ddbe28",
   "metadata": {},
   "outputs": [],
   "source": [
    "x.head()"
   ]
  },
  {
   "cell_type": "code",
   "execution_count": null,
   "id": "37708d8f",
   "metadata": {},
   "outputs": [],
   "source": [
    "trainx,testx = train_test_split(x,test_size = 0.2)\n",
    "trainy,testy = train_test_split(y,test_size = 0.2)"
   ]
  },
  {
   "cell_type": "code",
   "execution_count": null,
   "id": "00a00d87",
   "metadata": {},
   "outputs": [],
   "source": [
    "#dummy=pd.get_dummies(x,columns=[\"Occupation\"])\n",
    "dummy=pd.get_dummies(x)"
   ]
  },
  {
   "cell_type": "code",
   "execution_count": null,
   "id": "0f2bdd96",
   "metadata": {},
   "outputs": [],
   "source": [
    "dummy"
   ]
  },
  {
   "cell_type": "code",
   "execution_count": null,
   "id": "edd0de91",
   "metadata": {},
   "outputs": [],
   "source": [
    "scaler=MinMaxScaler()"
   ]
  },
  {
   "cell_type": "code",
   "execution_count": null,
   "id": "0beb85b1",
   "metadata": {},
   "outputs": [],
   "source": [
    "model=scaler.fit(dummy)"
   ]
  },
  {
   "cell_type": "code",
   "execution_count": null,
   "id": "9aee9cc6",
   "metadata": {},
   "outputs": [],
   "source": [
    "d=model.transform(dummy)"
   ]
  },
  {
   "cell_type": "code",
   "execution_count": null,
   "id": "51dbd4a9",
   "metadata": {},
   "outputs": [],
   "source": [
    "df=pd.DataFrame(d)"
   ]
  },
  {
   "cell_type": "code",
   "execution_count": null,
   "id": "f7a34164",
   "metadata": {},
   "outputs": [],
   "source": [
    "dummy.head()"
   ]
  },
  {
   "cell_type": "code",
   "execution_count": null,
   "id": "a1812466",
   "metadata": {},
   "outputs": [],
   "source": []
  },
  {
   "cell_type": "code",
   "execution_count": null,
   "id": "5e848c84",
   "metadata": {},
   "outputs": [],
   "source": [
    "trainx,testx=train_test_split(df,test_size=0.2)\n"
   ]
  },
  {
   "cell_type": "markdown",
   "id": "eb1f7df9",
   "metadata": {},
   "source": [
    "<h1>LINEAR REGRESSION<h1>"
   ]
  },
  {
   "cell_type": "code",
   "execution_count": null,
   "id": "8646fb47",
   "metadata": {},
   "outputs": [],
   "source": [
    "reg = LinearRegression(random_state=0).fit(trainx,trainy)\n"
   ]
  },
  {
   "cell_type": "code",
   "execution_count": null,
   "id": "a780c901",
   "metadata": {},
   "outputs": [],
   "source": [
    "reg.predict(testx)"
   ]
  },
  {
   "cell_type": "markdown",
   "id": "bdb7a785",
   "metadata": {},
   "source": [
    "<h1> DecisionTreeRegressor<h1>"
   ]
  },
  {
   "cell_type": "code",
   "execution_count": null,
   "id": "9d0ab8df",
   "metadata": {},
   "outputs": [],
   "source": [
    "reg1 = DecisionTreeRegressor(random_state=0).fit(trainx,trainy)"
   ]
  },
  {
   "cell_type": "code",
   "execution_count": null,
   "id": "5a3b3769",
   "metadata": {},
   "outputs": [],
   "source": [
    "reg1.predict(testx)"
   ]
  },
  {
   "cell_type": "markdown",
   "id": "958bcd6a",
   "metadata": {},
   "source": [
    "<h1>RandomForestRegressor<h1>"
   ]
  },
  {
   "cell_type": "code",
   "execution_count": null,
   "id": "6e743b5d",
   "metadata": {},
   "outputs": [],
   "source": [
    "reg3 = RandomForestRegressor(random_state=0,max_depth=2, random_state=0).fit(trainx,trainy)"
   ]
  },
  {
   "cell_type": "code",
   "execution_count": null,
   "id": "330e6b26",
   "metadata": {},
   "outputs": [],
   "source": [
    "reg3.predict(testx)"
   ]
  },
  {
   "cell_type": "markdown",
   "id": "62e85d6a",
   "metadata": {},
   "source": [
    "<h1>AdaBoostRegressor<h1>"
   ]
  },
  {
   "cell_type": "code",
   "execution_count": null,
   "id": "093c5364",
   "metadata": {},
   "outputs": [],
   "source": [
    "regr = AdaBoostRegressor(random_state=0, n_estimators=100).fit(trainx,trainy)"
   ]
  },
  {
   "cell_type": "code",
   "execution_count": null,
   "id": "a01899cb",
   "metadata": {},
   "outputs": [],
   "source": [
    "regr.predict(testx)"
   ]
  },
  {
   "cell_type": "markdown",
   "id": "a1e578c0",
   "metadata": {},
   "source": [
    "<h1>GradientBoostingRegressor<h1>"
   ]
  },
  {
   "cell_type": "code",
   "execution_count": null,
   "id": "4df0c8ce",
   "metadata": {},
   "outputs": [],
   "source": [
    "clf = GradientBoostingRegressor(random_state=0).fit(trainx,trainy)"
   ]
  },
  {
   "cell_type": "code",
   "execution_count": null,
   "id": "c5584152",
   "metadata": {},
   "outputs": [],
   "source": [
    "clf.predict(testx)"
   ]
  },
  {
   "cell_type": "code",
   "execution_count": null,
   "id": "316fa3f4",
   "metadata": {},
   "outputs": [],
   "source": [
    "print(reg.score(testx,testy))\n",
    "print(reg1.score(testx,testy))\n",
    "print(reg3.score(testx,testy))\n",
    "print(regr.score(testx,testy))\n",
    "print(clf.score(testx,testy))"
   ]
  },
  {
   "cell_type": "code",
   "execution_count": null,
   "id": "084efa32",
   "metadata": {},
   "outputs": [],
   "source": []
  },
  {
   "cell_type": "code",
   "execution_count": null,
   "id": "b79018d4",
   "metadata": {},
   "outputs": [],
   "source": []
  }
 ],
 "metadata": {
  "kernelspec": {
   "display_name": "Python 3 (ipykernel)",
   "language": "python",
   "name": "python3"
  },
  "language_info": {
   "codemirror_mode": {
    "name": "ipython",
    "version": 3
   },
   "file_extension": ".py",
   "mimetype": "text/x-python",
   "name": "python",
   "nbconvert_exporter": "python",
   "pygments_lexer": "ipython3",
   "version": "3.9.7"
  }
 },
 "nbformat": 4,
 "nbformat_minor": 5
}
